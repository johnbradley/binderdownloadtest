{
 "cells": [
  {
   "cell_type": "code",
   "execution_count": 1,
   "metadata": {
    "collapsed": true
   },
   "outputs": [],
   "source": [
    "import requests"
   ]
  },
  {
   "cell_type": "code",
   "execution_count": 2,
   "metadata": {
    "collapsed": true
   },
   "outputs": [],
   "source": [
    "local_filename=\"cds.sql\"\n",
    "url=\"http://hgdownload.soe.ucsc.edu/goldenPath/hg38/database/cds.sql\"\n",
    "r = requests.get(url, stream=True)\n",
    "with open(local_filename, 'wb') as f:\n",
    "    for chunk in r.iter_content(chunk_size=1024*1024): \n",
    "        if chunk:\n",
    "            f.write(chunk)"
   ]
  },
  {
   "cell_type": "code",
   "execution_count": 4,
   "metadata": {
    "collapsed": false
   },
   "outputs": [
    {
     "name": "stdout",
     "output_type": "stream",
     "text": [
      "-- MySQL dump 10.13  Distrib 5.6.26, for Linux (x86_64)\n",
      "\n",
      "--\n",
      "\n",
      "-- Host: localhost    Database: hg38\n",
      "\n",
      "-- ------------------------------------------------------\n",
      "\n",
      "-- Server version\t5.6.26\n",
      "\n",
      "\n",
      "\n",
      "/*!40101 SET @OLD_CHARACTER_SET_CLIENT=@@CHARACTER_SET_CLIENT */;\n",
      "\n",
      "/*!40101 SET @OLD_CHARACTER_SET_RESULTS=@@CHARACTER_SET_RESULTS */;\n",
      "\n",
      "/*!40101 SET @OLD_COLLATION_CONNECTION=@@COLLATION_CONNECTION */;\n",
      "\n",
      "/*!40101 SET NAMES utf8 */;\n",
      "\n",
      "/*!40103 SET @OLD_TIME_ZONE=@@TIME_ZONE */;\n",
      "\n",
      "/*!40103 SET TIME_ZONE='+00:00' */;\n",
      "\n",
      "/*!40101 SET @OLD_SQL_MODE=@@SQL_MODE, SQL_MODE='' */;\n",
      "\n",
      "/*!40111 SET @OLD_SQL_NOTES=@@SQL_NOTES, SQL_NOTES=0 */;\n",
      "\n",
      "\n",
      "\n",
      "--\n",
      "\n",
      "-- Table structure for table `cds`\n",
      "\n",
      "--\n",
      "\n",
      "\n",
      "\n",
      "DROP TABLE IF EXISTS `cds`;\n",
      "\n",
      "/*!40101 SET @saved_cs_client     = @@character_set_client */;\n",
      "\n",
      "/*!40101 SET character_set_client = utf8 */;\n",
      "\n",
      "CREATE TABLE `cds` (\n",
      "\n",
      "  `id` int(11) NOT NULL,\n",
      "\n",
      "  `name` longtext NOT NULL,\n",
      "\n",
      "  `crc` int(10) unsigned NOT NULL,\n",
      "\n",
      "  PRIMARY KEY (`id`),\n",
      "\n",
      "  KEY `name` (`name`(32)),\n",
      "\n",
      "  KEY `crc` (`crc`)\n",
      "\n",
      ") ENGINE=MyISAM DEFAULT CHARSET=latin1;\n",
      "\n",
      "/*!40101 SET character_set_client = @saved_cs_client */;\n",
      "\n",
      "\n",
      "\n",
      "/*!40103 SET TIME_ZONE=@OLD_TIME_ZONE */;\n",
      "\n",
      "\n",
      "\n",
      "/*!40101 SET SQL_MODE=@OLD_SQL_MODE */;\n",
      "\n",
      "/*!40101 SET CHARACTER_SET_CLIENT=@OLD_CHARACTER_SET_CLIENT */;\n",
      "\n",
      "/*!40101 SET CHARACTER_SET_RESULTS=@OLD_CHARACTER_SET_RESULTS */;\n",
      "\n",
      "/*!40101 SET COLLATION_CONNECTION=@OLD_COLLATION_CONNECTION */;\n",
      "\n",
      "/*!40111 SET SQL_NOTES=@OLD_SQL_NOTES */;\n",
      "\n",
      "\n",
      "\n",
      "-- Dump completed on 2016-04-03  6:56:09\n",
      "\n"
     ]
    }
   ],
   "source": [
    "with open(local_filename, 'r') as infile:\n",
    "    for line in infile.readlines():\n",
    "        print line"
   ]
  },
  {
   "cell_type": "code",
   "execution_count": null,
   "metadata": {
    "collapsed": true
   },
   "outputs": [],
   "source": []
  }
 ],
 "metadata": {
  "kernelspec": {
   "display_name": "Python 2",
   "language": "python",
   "name": "python2"
  },
  "language_info": {
   "codemirror_mode": {
    "name": "ipython",
    "version": 2
   },
   "file_extension": ".py",
   "mimetype": "text/x-python",
   "name": "python",
   "nbconvert_exporter": "python",
   "pygments_lexer": "ipython2",
   "version": "2.7.11"
  }
 },
 "nbformat": 4,
 "nbformat_minor": 0
}
